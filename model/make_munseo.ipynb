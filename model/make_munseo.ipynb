{
 "cells": [
  {
   "cell_type": "code",
   "execution_count": 2,
   "id": "42f8fb3d",
   "metadata": {},
   "outputs": [],
   "source": [
    "import re\n",
    "import pandas as pd\n",
    "from tools import dataset_Tools"
   ]
  },
  {
   "cell_type": "code",
   "execution_count": 16,
   "id": "42124198",
   "metadata": {},
   "outputs": [],
   "source": [
    "# 교과서 데이터 만들기\n",
    "with open(\"2007_book_data.txt\", \"r\") as f:\n",
    "    book_raw_data = f.read()"
   ]
  },
  {
   "cell_type": "code",
   "execution_count": 17,
   "id": "0bdcb754",
   "metadata": {},
   "outputs": [],
   "source": [
    "import re\n",
    "book_raw_data = re.sub(\"\\n\", \"\", book_raw_data)"
   ]
  },
  {
   "cell_type": "code",
   "execution_count": 18,
   "id": "d81e784b",
   "metadata": {},
   "outputs": [],
   "source": [
    "book_raw_data = dataset_Tools.data_preprocessing(book_raw_data, [10, 9679, 8226])"
   ]
  },
  {
   "cell_type": "code",
   "execution_count": 20,
   "id": "b92b905a",
   "metadata": {},
   "outputs": [],
   "source": [
    "book_df = pd.Series(dataset_Tools.to_documents(book_raw_data, 3))"
   ]
  },
  {
   "cell_type": "code",
   "execution_count": 30,
   "id": "36460d5e",
   "metadata": {},
   "outputs": [],
   "source": [
    "# 위키데이터 만들기\n",
    "with open(\"wiki_history_search_keyword.txt\", \"r\", encoding=\"utf8\") as f:\n",
    "    wiki_keyword_list = f.read().split(\"\\n\")"
   ]
  },
  {
   "cell_type": "code",
   "execution_count": null,
   "id": "3d9feb50",
   "metadata": {},
   "outputs": [],
   "source": [
    "wiki_dataset = dataset_Tools.wiki_set(wiki_keyword_list)"
   ]
  },
  {
   "cell_type": "code",
   "execution_count": null,
   "id": "be305d3e",
   "metadata": {},
   "outputs": [],
   "source": [
    "wiki_string = \"\".join(wiki_dataset.to_list())\n",
    "wiki_dataset = pd.Series(dataset_Tools.to_documents(wiki_string, 3))"
   ]
  },
  {
   "cell_type": "code",
   "execution_count": 4,
   "id": "2c178f97",
   "metadata": {},
   "outputs": [
    {
     "data": {
      "text/plain": [
       "0    1\n",
       "1    2\n",
       "2    3\n",
       "3    4\n",
       "4    5\n",
       "5    6\n",
       "6    7\n",
       "7    8\n",
       "dtype: int64"
      ]
     },
     "execution_count": 4,
     "metadata": {},
     "output_type": "execute_result"
    }
   ],
   "source": [
    "dataset = pd.concat([book_df, wiki_dataset]).reset_index(drop=True)"
   ]
  },
  {
   "cell_type": "code",
   "execution_count": null,
   "id": "940ca8fa",
   "metadata": {},
   "outputs": [],
   "source": [
    "pd.to_pickle(\"datasets.pickle\")"
   ]
  }
 ],
 "metadata": {
  "kernelspec": {
   "display_name": "Python 3 (ipykernel)",
   "language": "python",
   "name": "python3"
  },
  "language_info": {
   "codemirror_mode": {
    "name": "ipython",
    "version": 3
   },
   "file_extension": ".py",
   "mimetype": "text/x-python",
   "name": "python",
   "nbconvert_exporter": "python",
   "pygments_lexer": "ipython3",
   "version": "3.9.12"
  },
  "toc": {
   "base_numbering": 1,
   "nav_menu": {},
   "number_sections": true,
   "sideBar": true,
   "skip_h1_title": false,
   "title_cell": "Table of Contents",
   "title_sidebar": "Contents",
   "toc_cell": false,
   "toc_position": {},
   "toc_section_display": true,
   "toc_window_display": false
  }
 },
 "nbformat": 4,
 "nbformat_minor": 5
}
